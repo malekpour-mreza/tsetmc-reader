{
 "cells": [
  {
   "cell_type": "code",
   "execution_count": 1,
   "metadata": {},
   "outputs": [],
   "source": [
    "# Importing the Requirments\n",
    "import pandas as pd\n",
    "import numpy as np\n",
    "import dash\n",
    "import dash_table\n",
    "from datetime import datetime\n",
    "import dash_core_components as dcc\n",
    "import dash_html_components as html\n",
    "from dash.dependencies import Input, Output"
   ]
  },
  {
   "cell_type": "code",
   "execution_count": 224,
   "metadata": {},
   "outputs": [],
   "source": [
    "# Selecting the Desired Columns\n",
    "b_cols = ['URL', 'Code', 'Symbol', 'Name', 'Date', 'Time', 'Open', 'Final', 'Close', 'Count', 'Volume', 'Value',\n",
    "          'Lowest', 'Highest', 'Yesterday', 'EPS', 'Base Volume', 'UNKNOWN', 'DROPPED', 'Industry Code', 'Max',\n",
    "          'Min', 'Share Count', 'DROPPED', 'Sell 1st Count', 'Buy 1st Count', 'Buy 1st Price', 'Sell 1st Price',\n",
    "          'Buy 1st Volume', 'Sell 1st Volume', 'DROPPED', 'Sell 2nd Count', 'Buy 2nd Count', 'Buy 2nd Price',\n",
    "          'Sell 2nd Price', 'Buy 2nd Volume', 'Sell 2nd Volume', 'DROPPED', 'Sell 3rd Count', 'Buy 3rd Count', \n",
    "          'Buy 3rd Price', 'Sell 3rd Price', 'Buy 3rd Volume', 'Sell 3rd Volume']\n",
    "\n",
    "col_idx = [0,2,4,6,8,12,13]\n",
    "col_name = [b_cols[item] for item in col_idx]\n",
    "\n",
    "# Setting the Basic Path\n",
    "b_path = 'http://cdn.tsetmc.com/tsev2/data/MarketWatchPlus.aspx?i='\n",
    "\n",
    "# Maturity DataFrames\n",
    "mat = {'URL':[18067743398074470,55963441389800122,71901111301490182],\n",
    "       'Maturity': [datetime(2021,6,28),datetime(2021,8,9),datetime(2021,8,16)]}\n",
    "matdf = pd.DataFrame(mat).set_index('URL')"
   ]
  },
  {
   "cell_type": "code",
   "execution_count": 225,
   "metadata": {},
   "outputs": [],
   "source": [
    "# Yield-To-Maturity Function\n",
    "def YTM(URL, type='Close'):\n",
    "    n = matdf.loc[URL]-final_df.loc[URL]['Date']\n",
    "    percent = ((1000000/final_df.loc[URL][type])**(365/n[0].days))-1\n",
    "    return percent*100"
   ]
  },
  {
   "cell_type": "code",
   "execution_count": 228,
   "metadata": {},
   "outputs": [],
   "source": [
    "# Initiating the App\n",
    "app = dash.Dash()\n",
    "\n",
    "# Designing the Layout\n",
    "app.layout = html.Div([\n",
    "    \n",
    "    html.Div([\n",
    "        dash_table.DataTable(\n",
    "            id='MainTable',\n",
    "            columns=[{\"name\": i, \"id\": i} for i in col_name+['YTM']],\n",
    "        )],\n",
    "        style={'width': '30%', 'display': 'inline-block'}\n",
    "    ),\n",
    "    \n",
    "    html.P(),\n",
    "    \n",
    "    html.Div([\n",
    "        dcc.Dropdown(\n",
    "            id='TargetSelector',\n",
    "            options=[\n",
    "                {'label': 'Akhza-713', 'value': '55963441389800122'},\n",
    "                {'label': 'Akhza-716', 'value': '18067743398074470'},\n",
    "                {'label': 'Akhza-718', 'value': '71901111301490182'}\n",
    "            ],\n",
    "            multi=True,\n",
    "            placeholder='Select the Target(s)'\n",
    "        )], \n",
    "        style={'width': '20%', 'display': 'inline-block'}\n",
    "    ),\n",
    "    \n",
    "    dcc.Interval(\n",
    "        id='IntervalTimer',\n",
    "        interval=6000,\n",
    "        n_intervals=0\n",
    "    )\n",
    "   \n",
    "])\n",
    "\n",
    "\n",
    "\n",
    "\n",
    "# Interacting with the Layout\n",
    "\n",
    "# Selecting the Targets\n",
    "@app.callback(Output('MainTable', 'data'),\n",
    "              [Input('IntervalTimer', 'n_intervals'),\n",
    "               Input('TargetSelector', 'value')])\n",
    "def target_selector(n, targets):\n",
    "    # Downloading the Data\n",
    "    b_datasets = []\n",
    "    for item in targets:\n",
    "        b_datasets.append(pd.read_csv(b_path+item, header=None))\n",
    "        \n",
    "    # Making the Basic Dataframe\n",
    "    b_df = pd.concat(b_datasets)\n",
    "    b_df = b_df[col_idx]\n",
    "    \n",
    "    # Making the Final Dataframe\n",
    "    final_df = b_df\n",
    "    final_df.columns = col_name\n",
    "    final_df = final_df.set_index('URL')\n",
    "    final_df['Date'] = pd.to_datetime(final_df['Date'], format='%Y%m%d')\n",
    "    final_df['YTM'] = [YTM(item) for item in final_df.index]\n",
    "    \n",
    "    return final_df.to_dict('records')\n",
    "\n",
    "\n",
    "\n",
    "\n",
    "# Initiating the Server\n",
    "if __name__ == '__main__':\n",
    "    app.run_server()"
   ]
  },
  {
   "cell_type": "code",
   "execution_count": null,
   "metadata": {},
   "outputs": [],
   "source": []
  },
  {
   "cell_type": "code",
   "execution_count": null,
   "metadata": {},
   "outputs": [],
   "source": []
  },
  {
   "cell_type": "code",
   "execution_count": null,
   "metadata": {},
   "outputs": [],
   "source": []
  },
  {
   "cell_type": "code",
   "execution_count": 199,
   "metadata": {},
   "outputs": [],
   "source": []
  },
  {
   "cell_type": "code",
   "execution_count": 200,
   "metadata": {},
   "outputs": [],
   "source": []
  }
 ],
 "metadata": {
  "kernelspec": {
   "display_name": "Python 3",
   "language": "python",
   "name": "python3"
  },
  "language_info": {
   "codemirror_mode": {
    "name": "ipython",
    "version": 3
   },
   "file_extension": ".py",
   "mimetype": "text/x-python",
   "name": "python",
   "nbconvert_exporter": "python",
   "pygments_lexer": "ipython3",
   "version": "3.7.3"
  }
 },
 "nbformat": 4,
 "nbformat_minor": 2
}
