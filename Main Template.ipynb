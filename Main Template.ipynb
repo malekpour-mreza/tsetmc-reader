{
 "cells": [
  {
   "cell_type": "code",
   "execution_count": 234,
   "metadata": {},
   "outputs": [],
   "source": [
    "# Importing the Libraries\n",
    "import pandas as pd\n",
    "import numpy as np"
   ]
  },
  {
   "cell_type": "code",
   "execution_count": 245,
   "metadata": {},
   "outputs": [],
   "source": [
    "# Setting the Basic Data\n",
    "b_cols = ['URL', 'Code', 'Symbol', 'Name', 'Date', 'Time', 'Open', 'Final', 'Close', 'Count', 'Volume', 'Value',\n",
    "              'Lowest', 'Highest', 'Yesterday', 'EPS', 'Base Volume', 'UNKWNON', 'UNKNOWN', 'Industry Code', 'Max',\n",
    "              'Min', 'Share Count', 'Sell 1st Count', 'Buy 1st Count', 'Buy 1st Price', 'Sell 1st Price',\n",
    "              'Buy 1st Volume', 'Sell 1st Volume', 'Sell 2nd Count', 'Buy 2nd Count', 'Buy 2nd Price', 'Sell 2nd Price',\n",
    "              'Buy 2nd Volume', 'Sell 2nd Volume', 'Sell 3rd Count', 'Buy 3rd Count', 'Buy 3rd Price', 'Sell 3rd Price',\n",
    "              'Buy 3rd Volume', 'Sell 3rd Volume' ]\n",
    "\n",
    "b_path = 'http://cdn.tsetmc.com/tsev2/data/MarketWatchPlus.aspx?i='"
   ]
  },
  {
   "cell_type": "code",
   "execution_count": 246,
   "metadata": {},
   "outputs": [],
   "source": [
    "# Setting the Client Data\n",
    "c_cols = []\n",
    "\n",
    "c_path = 'http://cdn.tsetmc.com/tsev2/data/MarketWatchPlus.aspx?i='"
   ]
  },
  {
   "cell_type": "code",
   "execution_count": 247,
   "metadata": {},
   "outputs": [],
   "source": [
    "# Specifying the Targets\n",
    "targets = ['65883838195688438', '63917421733088077', '778253364357513']"
   ]
  },
  {
   "cell_type": "code",
   "execution_count": 248,
   "metadata": {},
   "outputs": [],
   "source": [
    "# Downloading the Basic Data\n",
    "b_datasets = []\n",
    "for item in targets:\n",
    "    b_datasets.append(pd.read_csv(b_path+item, header=None))"
   ]
  },
  {
   "cell_type": "code",
   "execution_count": 249,
   "metadata": {},
   "outputs": [],
   "source": [
    "# Downloading the Client Data\n",
    "c_datasets = []\n",
    "for item in targets:\n",
    "    c_datasets.append(pd.read_csv(c_path+item, header=None))"
   ]
  },
  {
   "cell_type": "code",
   "execution_count": 252,
   "metadata": {},
   "outputs": [],
   "source": [
    "# Making the Basic Dataframe\n",
    "b_df = pd.concat(b_datasets)\n",
    "b_df = b_df.drop(columns=[23,30,37])\n",
    "\n",
    "# Trimming the Incorrect Columns\n",
    "b_df[22] = b_df[22].apply(lambda x: x.split('@')[0])\n",
    "b_df[43] = b_df[43].apply(lambda x: x.split('@')[0])\n",
    "b_df[29] = b_df[29].apply(lambda x: x.split(';')[0])\n",
    "b_df[36] = b_df[36].apply(lambda x: x.split(';')[0])\n",
    "\n",
    "\n",
    "# Renaming the Basic Columns\n",
    "b_df.columns = b_cols"
   ]
  },
  {
   "cell_type": "code",
   "execution_count": null,
   "metadata": {},
   "outputs": [],
   "source": [
    "# Making the Basic Dataframe\n",
    "c_df = pd.concat(c_datasets)\n",
    "\n",
    "# Trimming the Incorrect Columns\n",
    "\n",
    "\n",
    "# Renaming the Basic Columns\n",
    "c_df.columns = c_cols"
   ]
  },
  {
   "cell_type": "code",
   "execution_count": null,
   "metadata": {},
   "outputs": [],
   "source": []
  },
  {
   "cell_type": "code",
   "execution_count": null,
   "metadata": {},
   "outputs": [],
   "source": []
  }
 ],
 "metadata": {
  "kernelspec": {
   "display_name": "Python 3",
   "language": "python",
   "name": "python3"
  },
  "language_info": {
   "codemirror_mode": {
    "name": "ipython",
    "version": 3
   },
   "file_extension": ".py",
   "mimetype": "text/x-python",
   "name": "python",
   "nbconvert_exporter": "python",
   "pygments_lexer": "ipython3",
   "version": "3.7.3"
  }
 },
 "nbformat": 4,
 "nbformat_minor": 2
}
